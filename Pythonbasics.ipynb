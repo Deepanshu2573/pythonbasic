{
  "nbformat": 4,
  "nbformat_minor": 0,
  "metadata": {
    "colab": {
      "provenance": []
    },
    "kernelspec": {
      "name": "python3",
      "display_name": "Python 3"
    },
    "language_info": {
      "name": "python"
    }
  },
  "cells": [
    {
      "cell_type": "markdown",
      "source": [
        "### PYTHON BASICS ASSIGNMENT"
      ],
      "metadata": {
        "id": "EnkNw3ySnBKu"
      }
    },
    {
      "cell_type": "markdown",
      "source": [
        "1. What is Python, and why is it popular?\n",
        " - Python is a programming language that is easy to understand and write, making it a popular choice among developers and programmers.\n",
        "It is compatible with various programming paradigms, such as procedural, object-oriented, and functional programming.\n",
        "Python has a large and active community of developers, an extensive standard library, and third-party packages for various domains.\n"
      ],
      "metadata": {
        "id": "S9nPkzU4nMb2"
      }
    },
    {
      "cell_type": "markdown",
      "source": [
        "2.What is an interpreter in Python?\n",
        " - An interpreter in Python is a program that executes Python code line by line, converting it into machine-readable instructions.Python’s interpreter allows immediate execution, making debugging and development faster."
      ],
      "metadata": {
        "id": "2xhBI3p_n8ra"
      }
    },
    {
      "cell_type": "markdown",
      "source": [
        "3.What are pre-defined keywords in Python?\n",
        " - Keywords are reserved words in Python that have special meanings and cannot be used as identifiers (variable names, function names, etc.).\n",
        "Examples of keywords include if, else, while, for, def, class, import, try, except, return, True, False, None, etc.\n",
        "Keywords are case-sensitive and cannot be redefined or overridden within a Python program"
      ],
      "metadata": {
        "id": "_JAIJYMpoZDq"
      }
    },
    {
      "cell_type": "markdown",
      "source": [
        "4. Can keywords be used as variable names?\n",
        " - No, Keywords are reserved words in Python that have special meanings and cannot be used as veriable names."
      ],
      "metadata": {
        "id": "hyeW4ctRo3dv"
      }
    },
    {
      "cell_type": "markdown",
      "source": [
        "5. What is mutability in Python?\n",
        " - In Python, objects can be either changeable (modifiable) or unchangeable (unchangeable).\n",
        "Mutable objects, such as lists and dictionaries, can be modified after creation, while immutable objects, such as tuples and strings, cannot.\n",
        "Mutability affects how objects are stored and manipulated in memory, impacting performance, memory usage, and concurrency in Python programs."
      ],
      "metadata": {
        "id": "QDNDG73PpKZB"
      }
    },
    {
      "cell_type": "markdown",
      "source": [
        "6. Why are lists mutable, but tuples are immutable?\n",
        " - Lists in Python are mutable, meaning their elements can be changed, added, or removed after creation. Tuples, on the other hand, are immutable, meaning their elements cannot be modified once the tuple is created.\n",
        "   - list are mutable because Lists are implemented as dynamic arrays, allowing elements to be modified or resized.\n",
        "They provide flexibility for operations like appending, inserting, or deleting elements.\n",
        "  - Tuple are immutable because tuples are stored in a fixed memory location, making them more memory-efficient and faster than lists.\n",
        "Immutability ensures data integrity, making tuples useful for keys in dictionaries and thread-safe operations."
      ],
      "metadata": {
        "id": "jzE4du3UpxQ_"
      }
    },
    {
      "cell_type": "markdown",
      "source": [
        "7. What is the difference between “==” and “is” operators in Python?\n",
        " - The == operator checks if two objects have the same value, while the is operator checks if they refer to the same memory location. For example, two lists with the same elements (a == b) will return True, but a is b will be False because they are separate objects in memory."
      ],
      "metadata": {
        "id": "Xw7dlGZzqkmC"
      }
    },
    {
      "cell_type": "markdown",
      "source": [
        "8. What are logical operators in Python?\n",
        " - Logical operators in Python (and, or, not) help combine conditions in decision-making. The and operator returns True only if both conditions are True. The or operator returns True if at least one condition is True. The not operator inverts the result, making True into False and vice versa. These are commonly used in if statements for controlling program flow."
      ],
      "metadata": {
        "id": "ll4gMxMOrh5B"
      }
    },
    {
      "cell_type": "markdown",
      "source": [
        "9. What is type casting in Python?\n",
        " - Type casting, also referred to as type conversion, is the process of changing one data type to another in Python.\n",
        "Python provides built-in functions for type casting, such as int(), float(), str(), list(), tuple(), dict(), etc.\n",
        "Type casting is often necessary for performing arithmetic operations, data manipulation, and input/output operations in Python programs."
      ],
      "metadata": {
        "id": "v5KXTG_jsUAR"
      }
    },
    {
      "cell_type": "markdown",
      "source": [
        "10. What is the difference between implicit and explicit type casting?\n",
        " - implicit type casting happens automatically when Python converts a smaller data type to a larger one (e.g., int to float) to avoid data loss. Explicit type casting, on the other hand, is done manually using functions like int(), float(), or str() to convert one data type into another."
      ],
      "metadata": {
        "id": "LEEF2meMsmzU"
      }
    },
    {
      "cell_type": "markdown",
      "source": [
        "11. What is the purpose of conditional statements in Python?\n",
        " - Conditionals in Python are used to execute code based on the evaluation of one or more conditions.\n",
        "Python supports conditional statements such as if, elif (else if), and else to control the flow of execution.\n",
        "Conditionals can be nested to handle multiple conditions and control different branches of execution based on the outcome of logical expressions."
      ],
      "metadata": {
        "id": "b6NW_MgFteeK"
      }
    },
    {
      "cell_type": "markdown",
      "source": [
        "12. How does the elif statement work?\n",
        " - The elif (else if) statement in Python is used in conditional statements to check multiple conditions sequentially. If the if condition is False, Python checks the elif conditions one by one. If an elif condition is True, its block executes, and the rest are skipped. If none are True, the else block (if present) runs."
      ],
      "metadata": {
        "id": "9RbshyAOtu4D"
      }
    },
    {
      "cell_type": "markdown",
      "source": [
        "13. What is the difference between for and while loops?\n",
        " - Python offers two primary types of loops: for loops and while loops.\n",
        "“for” loops are used for iterating over a sequence of elements, while “while” loops are used for executing code until a specified condition becomes False."
      ],
      "metadata": {
        "id": "js_trAqYuLtY"
      }
    },
    {
      "cell_type": "markdown",
      "source": [
        "14.  Describe a scenario where a while loop is more suitable than a for loop.\n",
        " -A while loop is more suitable when the number of iterations is unknown and depends on a condition being met.\n",
        "   for eg - suppose you are building an ATM system where a user must enter the correct PIN to proceed. Since you don’t know how many attempts the user will take, a while loop is ideal."
      ],
      "metadata": {
        "id": "oemw-rwXuiGj"
      }
    },
    {
      "cell_type": "markdown",
      "source": [
        "# practical questions\n"
      ],
      "metadata": {
        "id": "P1EBn01SvV78"
      }
    },
    {
      "cell_type": "markdown",
      "source": [
        "1. Write a Python program to print \"Hello, World!\""
      ],
      "metadata": {
        "id": "t5Hn23NRvc_R"
      }
    },
    {
      "cell_type": "code",
      "source": [
        "print(\"Hello, World!\")"
      ],
      "metadata": {
        "colab": {
          "base_uri": "https://localhost:8080/"
        },
        "id": "rvxj1l_dvlzq",
        "outputId": "b2c2ce3a-4271-4f93-f1b3-73041f1e89c6"
      },
      "execution_count": 1,
      "outputs": [
        {
          "output_type": "stream",
          "name": "stdout",
          "text": [
            "Hello, World!\n"
          ]
        }
      ]
    },
    {
      "cell_type": "markdown",
      "source": [
        "2. Write a Python program that displays your name and age"
      ],
      "metadata": {
        "id": "sUkox3Pgv9FG"
      }
    },
    {
      "cell_type": "code",
      "source": [
        "name = \"Deepanshu\"\n",
        "age = 27\n",
        "print(\"I am \" , name)\n",
        "print( \"I am\" , age , \"years old\")"
      ],
      "metadata": {
        "colab": {
          "base_uri": "https://localhost:8080/"
        },
        "id": "yUJQ5l6bwFVM",
        "outputId": "0dcf75e7-8f04-479b-c313-809caaa91741"
      },
      "execution_count": 5,
      "outputs": [
        {
          "output_type": "stream",
          "name": "stdout",
          "text": [
            "I am  Deepanshu\n",
            "I am 27 years old\n"
          ]
        }
      ]
    },
    {
      "cell_type": "markdown",
      "source": [
        "3. Write code to print all the pre-defined keywords in Python using the keyword library"
      ],
      "metadata": {
        "id": "SmKYNMQpxFTr"
      }
    },
    {
      "cell_type": "code",
      "source": [
        "import keyword\n",
        "print (keyword.kwlist)"
      ],
      "metadata": {
        "colab": {
          "base_uri": "https://localhost:8080/"
        },
        "id": "Yi2BYhvfxEQx",
        "outputId": "4e201729-9500-4165-fa74-0925e8a47056"
      },
      "execution_count": 8,
      "outputs": [
        {
          "output_type": "stream",
          "name": "stdout",
          "text": [
            "['False', 'None', 'True', 'and', 'as', 'assert', 'async', 'await', 'break', 'class', 'continue', 'def', 'del', 'elif', 'else', 'except', 'finally', 'for', 'from', 'global', 'if', 'import', 'in', 'is', 'lambda', 'nonlocal', 'not', 'or', 'pass', 'raise', 'return', 'try', 'while', 'with', 'yield']\n"
          ]
        }
      ]
    },
    {
      "cell_type": "markdown",
      "source": [
        "4. Write a program that checks if a given word is a Python keyword"
      ],
      "metadata": {
        "id": "5Mcql6mNxwKC"
      }
    },
    {
      "cell_type": "code",
      "source": [
        "word = input(\"Enter a word: \")\n",
        "for kw in keyword.kwlist:\n",
        "    if word == kw:\n",
        "        print(f\"'{word}' is a Python keyword.\")\n",
        "        break\n",
        "else:\n",
        "    print(f\"'{word}' is NOT a Python keyword.\")\n"
      ],
      "metadata": {
        "colab": {
          "base_uri": "https://localhost:8080/"
        },
        "id": "6kRanY3A27a7",
        "outputId": "c5de82f9-96b6-4ea4-a0c0-27f2e7217230"
      },
      "execution_count": 19,
      "outputs": [
        {
          "output_type": "stream",
          "name": "stdout",
          "text": [
            "Enter a word: else\n",
            "'else' is a Python keyword.\n"
          ]
        }
      ]
    },
    {
      "cell_type": "markdown",
      "source": [
        "5. Create a list and tuple in Python, and demonstrate how attempting to change an element works differently for each?"
      ],
      "metadata": {
        "id": "zLv51G1j4EHR"
      }
    },
    {
      "cell_type": "code",
      "source": [
        "my_list = ['apple', 'orange','banana','grapes' ]\n",
        "my_tuple = ('apple', 'orange','banana','grapes' )\n",
        "my_list[1]='papaya'\n",
        "my_tuple[1] = 'papaya'"
      ],
      "metadata": {
        "id": "TN8TbOGI4PXB"
      },
      "execution_count": 20,
      "outputs": []
    },
    {
      "cell_type": "code",
      "source": [
        "my_list"
      ],
      "metadata": {
        "colab": {
          "base_uri": "https://localhost:8080/"
        },
        "id": "lNfbYAvE49aH",
        "outputId": "8505fbd0-adf2-47ab-ce90-4389577dad1e"
      },
      "execution_count": 21,
      "outputs": [
        {
          "output_type": "execute_result",
          "data": {
            "text/plain": [
              "['apple', 'papaya', 'banana', 'grapes']"
            ]
          },
          "metadata": {},
          "execution_count": 21
        }
      ]
    },
    {
      "cell_type": "code",
      "source": [
        "my_tuple"
      ],
      "metadata": {
        "colab": {
          "base_uri": "https://localhost:8080/"
        },
        "id": "xW-xOurg5I4U",
        "outputId": "e192355d-655e-48a1-b453-df17047cea55"
      },
      "execution_count": 22,
      "outputs": [
        {
          "output_type": "execute_result",
          "data": {
            "text/plain": [
              "('apple', 'orange', 'banana', 'grapes')"
            ]
          },
          "metadata": {},
          "execution_count": 22
        }
      ]
    },
    {
      "cell_type": "code",
      "source": [
        "# tuples are immutable so no change where as list are mutable"
      ],
      "metadata": {
        "id": "is2X72CA5Z6j"
      },
      "execution_count": null,
      "outputs": []
    },
    {
      "cell_type": "code",
      "source": [],
      "metadata": {
        "id": "LpMJfshI5Z4H"
      },
      "execution_count": null,
      "outputs": []
    },
    {
      "cell_type": "markdown",
      "source": [
        "6. Write a function to demonstrate the behavior of mutable and immutable arguments?"
      ],
      "metadata": {
        "id": "eHb9VtqH5mG-"
      }
    },
    {
      "cell_type": "code",
      "source": [
        "def demo(a, b):\n",
        "    a += 5  # Immutable (integer) - does not change outside\n",
        "    b.append(4)  # Mutable (list) - changes outside\n",
        "\n",
        "x = 10  # Immutable\n",
        "y = [1, 2, 3]  # Mutable\n",
        "\n",
        "demo(x, y)\n",
        "\n",
        "print(\"Integer after function call:\", x)  # Output: 10 (unchanged)\n",
        "print(\"List after function call:\", y)  # Output: [1, 2, 3, 4] (modified)"
      ],
      "metadata": {
        "colab": {
          "base_uri": "https://localhost:8080/"
        },
        "id": "9sOcuTLr5uz2",
        "outputId": "3f7b9478-b2b2-4243-c793-e11505329318"
      },
      "execution_count": 23,
      "outputs": [
        {
          "output_type": "stream",
          "name": "stdout",
          "text": [
            "Integer after function call: 10\n",
            "List after function call: [1, 2, 3, 4]\n"
          ]
        }
      ]
    },
    {
      "cell_type": "markdown",
      "source": [
        "7. by mistake same question printed"
      ],
      "metadata": {
        "id": "jvRS1d186xiM"
      }
    },
    {
      "cell_type": "markdown",
      "source": [
        "8. Write a program to demonstrate the use of logical operators?"
      ],
      "metadata": {
        "id": "bQm6DNfu7D9f"
      }
    },
    {
      "cell_type": "code",
      "source": [
        "a = 10\n",
        "b = 5\n",
        "c = 0\n",
        "# Using 'and' operator\n",
        "print(a > b and b > c)\n",
        "\n",
        "# Using 'or' operator\n",
        "print(a < b or b > c)\n",
        "\n",
        "# Using 'not' operator\n",
        "print (not(a < b))"
      ],
      "metadata": {
        "colab": {
          "base_uri": "https://localhost:8080/"
        },
        "id": "P54I7T8D7VxQ",
        "outputId": "8e60eb2e-64e6-4f2d-f747-9fd3428a00ec"
      },
      "execution_count": 26,
      "outputs": [
        {
          "output_type": "stream",
          "name": "stdout",
          "text": [
            "True\n",
            "True\n",
            "True\n"
          ]
        }
      ]
    },
    {
      "cell_type": "markdown",
      "source": [
        "9. Write a Python program to convert user input from string to integer, float, and boolean type?"
      ],
      "metadata": {
        "id": "nJtuXD9L7u2j"
      }
    },
    {
      "cell_type": "code",
      "source": [
        "\n",
        "# Get user input\n",
        "user_input = input(\"Enter a value: \")\n",
        "\n",
        "# Convert to integer\n",
        "int_value = int(user_input)\n",
        "\n",
        "# Convert to float\n",
        "float_value = float(user_input)\n",
        "\n",
        "# Convert to boolean\n",
        "bool_value = bool(int_value)  # Non-zero numbers become True, 0 becomes False\n",
        "\n",
        "# Display results\n",
        "print(\"Integer:\", int_value)\n",
        "print(\"Float:\", float_value)\n",
        "print(\"Boolean:\", bool_value)\n"
      ],
      "metadata": {
        "colab": {
          "base_uri": "https://localhost:8080/"
        },
        "id": "b5LJbI__8IJV",
        "outputId": "985e201f-3f0c-4680-aafc-cbcc40a67160"
      },
      "execution_count": 28,
      "outputs": [
        {
          "output_type": "stream",
          "name": "stdout",
          "text": [
            "Enter a value: 5\n",
            "Integer: 5\n",
            "Float: 5.0\n",
            "Boolean: True\n"
          ]
        }
      ]
    },
    {
      "cell_type": "markdown",
      "source": [
        "10. Write code to demonstrate type casting with list elements?"
      ],
      "metadata": {
        "id": "ngTYEaAv9Ope"
      }
    },
    {
      "cell_type": "code",
      "source": [
        "my_list = ['apple','banana',1, 2.2, 8,'papaya']\n",
        "my_list[2] = str(my_list[2])\n",
        "my_list[3] = int(my_list[3])\n",
        "my_list[4] = float(my_list[4])"
      ],
      "metadata": {
        "id": "QiXTgxjo9TQa"
      },
      "execution_count": 30,
      "outputs": []
    },
    {
      "cell_type": "code",
      "source": [
        "my_list"
      ],
      "metadata": {
        "colab": {
          "base_uri": "https://localhost:8080/"
        },
        "id": "_AsrbodV-GyQ",
        "outputId": "51d06ad9-a4a1-49c7-91fe-ccaa6fafdedc"
      },
      "execution_count": 31,
      "outputs": [
        {
          "output_type": "execute_result",
          "data": {
            "text/plain": [
              "['apple', 'banana', '1', 2, 8.0, 'papaya']"
            ]
          },
          "metadata": {},
          "execution_count": 31
        }
      ]
    },
    {
      "cell_type": "markdown",
      "source": [
        "11. Write a program that checks if a number is positive, negative, or zero\n"
      ],
      "metadata": {
        "id": "xVficXN8-PiQ"
      }
    },
    {
      "cell_type": "code",
      "source": [
        "# Get user input\n",
        "num = float(input(\"Enter a number: \"))\n",
        "\n",
        "# Check conditions\n",
        "if num > 0:\n",
        "    print(\"The number is positive.\")\n",
        "elif num < 0:\n",
        "    print(\"The number is negative.\")\n",
        "else:\n",
        "    print(\"The number is zero.\")"
      ],
      "metadata": {
        "colab": {
          "base_uri": "https://localhost:8080/"
        },
        "id": "8hCNO9Ei_AMB",
        "outputId": "0213bf10-6d6a-468c-c0ee-2fed999237f4"
      },
      "execution_count": 32,
      "outputs": [
        {
          "output_type": "stream",
          "name": "stdout",
          "text": [
            "Enter a number: 2\n",
            "The number is positive.\n"
          ]
        }
      ]
    },
    {
      "cell_type": "markdown",
      "source": [
        "12. Write a for loop to print numbers from 1 to 10"
      ],
      "metadata": {
        "id": "62UmX2o7_Vn_"
      }
    },
    {
      "cell_type": "code",
      "source": [
        "for i in range( 1,10):\n",
        "  print(i)"
      ],
      "metadata": {
        "colab": {
          "base_uri": "https://localhost:8080/"
        },
        "id": "-0HW5L5E_jFJ",
        "outputId": "23040c6c-9a17-4ef3-8382-5cb2ae6ee2a0"
      },
      "execution_count": 33,
      "outputs": [
        {
          "output_type": "stream",
          "name": "stdout",
          "text": [
            "1\n",
            "2\n",
            "3\n",
            "4\n",
            "5\n",
            "6\n",
            "7\n",
            "8\n",
            "9\n"
          ]
        }
      ]
    },
    {
      "cell_type": "markdown",
      "source": [
        "13. Write a Python program to find the sum of all even numbers between 1 and 500"
      ],
      "metadata": {
        "id": "_SUwZnT4ADkH"
      }
    },
    {
      "cell_type": "code",
      "source": [
        "sum_even = 0\n",
        "\n",
        "for i in range(2, 501, 2):  # Start from 2, go up to 500, step by 2\n",
        "    sum_even += i\n",
        "\n",
        "print(\"Sum of even numbers from 1 to 500:\", sum_even)"
      ],
      "metadata": {
        "colab": {
          "base_uri": "https://localhost:8080/"
        },
        "id": "2Em6rEZiAYq5",
        "outputId": "3bea5990-c28a-4445-f0b2-937379c979a8"
      },
      "execution_count": 34,
      "outputs": [
        {
          "output_type": "stream",
          "name": "stdout",
          "text": [
            "Sum of even numbers from 1 to 500: 62750\n"
          ]
        }
      ]
    },
    {
      "cell_type": "markdown",
      "source": [],
      "metadata": {
        "id": "k8F2l8PE38L-"
      }
    },
    {
      "cell_type": "markdown",
      "source": [
        "14. Write a program to reverse a string using a while loop"
      ],
      "metadata": {
        "id": "uhuZVdPEAkVW"
      }
    },
    {
      "cell_type": "code",
      "source": [
        "s = \"hello\"\n",
        "rev = \"\"\n",
        "i = len(s) - 1\n",
        "\n",
        "while i >= 0:\n",
        "    rev += s[i]\n",
        "    i -= 1\n",
        "\n",
        "print(\"Reversed string:\", rev)"
      ],
      "metadata": {
        "colab": {
          "base_uri": "https://localhost:8080/"
        },
        "id": "P3zb_pdIArNc",
        "outputId": "45e38d5e-7688-44bb-97f5-eda84a89064b"
      },
      "execution_count": 35,
      "outputs": [
        {
          "output_type": "stream",
          "name": "stdout",
          "text": [
            "Reversed string: olleh\n"
          ]
        }
      ]
    },
    {
      "cell_type": "markdown",
      "source": [
        "15. Write a Python program to calculate the factorial of a number provided by the user using a while loop."
      ],
      "metadata": {
        "id": "Ry6Dw9J_BREa"
      }
    },
    {
      "cell_type": "code",
      "source": [
        "num = int(input(\"Enter a number: \"))\n",
        "factorial = 1\n",
        "i = num\n",
        "\n",
        "while i > 0:\n",
        "    factorial *= i\n",
        "    i -= 1\n",
        "\n",
        "print(\"Factorial of\", num, \"is\", factorial)"
      ],
      "metadata": {
        "colab": {
          "base_uri": "https://localhost:8080/"
        },
        "id": "xM4TwcEABZyc",
        "outputId": "4ed4e94c-95dd-454d-d4f8-2a5956e8a0da"
      },
      "execution_count": 36,
      "outputs": [
        {
          "output_type": "stream",
          "name": "stdout",
          "text": [
            "Enter a number: 5\n",
            "Factorial of 5 is 120\n"
          ]
        }
      ]
    }
  ]
}